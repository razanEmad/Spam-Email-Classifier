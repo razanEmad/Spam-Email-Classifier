{
 "cells": [
  {
   "cell_type": "code",
   "execution_count": 1,
   "id": "88e9dc66-db32-4c72-88a2-62b0983d3305",
   "metadata": {},
   "outputs": [],
   "source": [
    "import warnings\n",
    "import numpy as np\n",
    "import pandas as pd\n",
    "from sklearn.feature_extraction.text import TfidfVectorizer\n",
    "from sklearn.metrics import classification_report, accuracy_score, confusion_matrix\n",
    "from sklearn.model_selection import train_test_split\n",
    "from sklearn.naive_bayes import MultinomialNB\n",
    "import streamlit as st\n",
    "import matplotlib.pyplot as plt\n",
    "import seaborn as sns"
   ]
  },
  {
   "cell_type": "code",
   "execution_count": 2,
   "id": "8fda0252-1bdb-4e59-8a90-e1b8a1fcd94b",
   "metadata": {},
   "outputs": [],
   "source": [
    "warnings.filterwarnings(\"ignore\", category=UserWarning)"
   ]
  },
  {
   "cell_type": "code",
   "execution_count": 3,
   "id": "c7c3825b-aaf8-47b7-a740-d77212f022c1",
   "metadata": {},
   "outputs": [],
   "source": [
    "df = pd.read_csv(r\"C:\\Users\\razan\\Downloads\\Spam Email ML_AI\\Spam Email ML_AI\\preprocessed_data.csv\")\n",
    "# print(df.head())"
   ]
  },
  {
   "cell_type": "code",
   "execution_count": 4,
   "id": "965d97c2-7b52-4809-929e-f368cc64c949",
   "metadata": {},
   "outputs": [
    {
     "data": {
      "text/html": [
       "<div>\n",
       "<style scoped>\n",
       "    .dataframe tbody tr th:only-of-type {\n",
       "        vertical-align: middle;\n",
       "    }\n",
       "\n",
       "    .dataframe tbody tr th {\n",
       "        vertical-align: top;\n",
       "    }\n",
       "\n",
       "    .dataframe thead th {\n",
       "        text-align: right;\n",
       "    }\n",
       "</style>\n",
       "<table border=\"1\" class=\"dataframe\">\n",
       "  <thead>\n",
       "    <tr style=\"text-align: right;\">\n",
       "      <th></th>\n",
       "      <th>Category</th>\n",
       "      <th>Message</th>\n",
       "    </tr>\n",
       "  </thead>\n",
       "  <tbody>\n",
       "    <tr>\n",
       "      <th>0</th>\n",
       "      <td>0</td>\n",
       "      <td>Go until jurong point, crazy.. Available only ...</td>\n",
       "    </tr>\n",
       "    <tr>\n",
       "      <th>1</th>\n",
       "      <td>0</td>\n",
       "      <td>Ok lar... Joking wif u oni...</td>\n",
       "    </tr>\n",
       "    <tr>\n",
       "      <th>2</th>\n",
       "      <td>1</td>\n",
       "      <td>Free entry in 2 a wkly comp to win FA Cup fina...</td>\n",
       "    </tr>\n",
       "    <tr>\n",
       "      <th>3</th>\n",
       "      <td>0</td>\n",
       "      <td>U dun say so early hor... U c already then say...</td>\n",
       "    </tr>\n",
       "    <tr>\n",
       "      <th>4</th>\n",
       "      <td>0</td>\n",
       "      <td>Nah I don't think he goes to usf, he lives aro...</td>\n",
       "    </tr>\n",
       "  </tbody>\n",
       "</table>\n",
       "</div>"
      ],
      "text/plain": [
       "   Category                                            Message\n",
       "0         0  Go until jurong point, crazy.. Available only ...\n",
       "1         0                      Ok lar... Joking wif u oni...\n",
       "2         1  Free entry in 2 a wkly comp to win FA Cup fina...\n",
       "3         0  U dun say so early hor... U c already then say...\n",
       "4         0  Nah I don't think he goes to usf, he lives aro..."
      ]
     },
     "execution_count": 4,
     "metadata": {},
     "output_type": "execute_result"
    }
   ],
   "source": [
    "df.head()"
   ]
  },
  {
   "cell_type": "code",
   "execution_count": 5,
   "id": "96d74c7e-179d-4c92-b867-40b83a9e767e",
   "metadata": {},
   "outputs": [
    {
     "name": "stdout",
     "output_type": "stream",
     "text": [
      "   target                                              email\n",
      "0       0  Go until jurong point, crazy.. Available only ...\n",
      "1       0                      Ok lar... Joking wif u oni...\n",
      "2       1  Free entry in 2 a wkly comp to win FA Cup fina...\n",
      "3       0  U dun say so early hor... U c already then say...\n",
      "4       0  Nah I don't think he goes to usf, he lives aro...\n"
     ]
    }
   ],
   "source": [
    "df.rename(columns={'Category': 'target', 'Message': 'email'}, inplace=True)\n",
    "# df=df.dropna()\n",
    "print(df.head())\n",
    "df[\"email\"] = df[\"email\"].str.lower()\n",
    "\n",
    "# df[\"target\"]=df[\"target\"].map({\"ham\":0, \"spam\":1})"
   ]
  },
  {
   "cell_type": "code",
   "execution_count": 6,
   "id": "9f5f25e1-4c8a-4d83-b2aa-16d9411b119a",
   "metadata": {},
   "outputs": [
    {
     "name": "stdout",
     "output_type": "stream",
     "text": [
      "   target                                              email\n",
      "0       0  go until jurong point, crazy.. available only ...\n",
      "1       0                      ok lar... joking wif u oni...\n",
      "2       1  free entry in 2 a wkly comp to win fa cup fina...\n",
      "3       0  u dun say so early hor... u c already then say...\n",
      "4       0  nah i don't think he goes to usf, he lives aro...\n"
     ]
    }
   ],
   "source": [
    "print (df.head())"
   ]
  },
  {
   "cell_type": "code",
   "execution_count": 7,
   "id": "2915fe1e-29c7-43cf-9381-a918e1883be2",
   "metadata": {},
   "outputs": [],
   "source": [
    "x = df.drop(\"target\",axis=1)\n",
    "y = df[\"target\"]"
   ]
  },
  {
   "cell_type": "code",
   "execution_count": 8,
   "id": "3d67399a-291f-4aa5-8b51-6063ce95dd88",
   "metadata": {},
   "outputs": [],
   "source": [
    "x_train,x_test,y_train,y_test = train_test_split(x,y,test_size=0.25,random_state=42)"
   ]
  },
  {
   "cell_type": "code",
   "execution_count": 9,
   "id": "ab111dad-e9b9-4fa0-a351-018ff88a299c",
   "metadata": {},
   "outputs": [],
   "source": [
    "vectorizer = TfidfVectorizer()\n",
    "x_train = vectorizer.fit_transform(x_train.iloc[:,0])\n",
    "x_test = vectorizer.transform(x_test.iloc[:,0])"
   ]
  },
  {
   "cell_type": "code",
   "execution_count": 10,
   "id": "6872ff2e-c302-455f-95de-d96018420c16",
   "metadata": {},
   "outputs": [
    {
     "data": {
      "text/plain": [
       "<11808x13243 sparse matrix of type '<class 'numpy.float64'>'\n",
       "\twith 170476 stored elements in Compressed Sparse Row format>"
      ]
     },
     "execution_count": 10,
     "metadata": {},
     "output_type": "execute_result"
    }
   ],
   "source": [
    "x_train"
   ]
  },
  {
   "cell_type": "code",
   "execution_count": 11,
   "id": "3497b668-3621-43e6-b950-7d005eaa686b",
   "metadata": {},
   "outputs": [
    {
     "data": {
      "text/plain": [
       "array([[0., 0., 0., ..., 0., 0., 0.],\n",
       "       [0., 0., 0., ..., 0., 0., 0.],\n",
       "       [0., 0., 0., ..., 0., 0., 0.],\n",
       "       ...,\n",
       "       [0., 0., 0., ..., 0., 0., 0.],\n",
       "       [0., 0., 0., ..., 0., 0., 0.],\n",
       "       [0., 0., 0., ..., 0., 0., 0.]])"
      ]
     },
     "execution_count": 11,
     "metadata": {},
     "output_type": "execute_result"
    }
   ],
   "source": [
    "x_train.toarray()"
   ]
  },
  {
   "cell_type": "code",
   "execution_count": 12,
   "id": "ad41a6b5-e614-412e-9f0f-b9b42819d9bf",
   "metadata": {},
   "outputs": [],
   "source": [
    "x_train = pd.DataFrame(x_train.toarray(),columns=vectorizer.get_feature_names_out())\n",
    "x_test = pd.DataFrame(x_test.toarray(),columns=vectorizer.get_feature_names_out())"
   ]
  },
  {
   "cell_type": "code",
   "execution_count": 13,
   "id": "2456db38-073d-4c1e-8532-f1dc82797e21",
   "metadata": {},
   "outputs": [
    {
     "data": {
      "text/plain": [
       "array(['00', '000', '000pes', ..., 'ã¼', 'ãœ', 'éˆ'], dtype=object)"
      ]
     },
     "execution_count": 13,
     "metadata": {},
     "output_type": "execute_result"
    }
   ],
   "source": [
    "vectorizer.get_feature_names_out()"
   ]
  },
  {
   "cell_type": "code",
   "execution_count": 14,
   "id": "96134f7a-07bb-401b-8442-a68e9c55cfb6",
   "metadata": {},
   "outputs": [
    {
     "name": "stdout",
     "output_type": "stream",
     "text": [
      "Accuracy: 0.9801879603759207\n",
      "Confusion Matrix:\n",
      " [[2376    7]\n",
      " [  71 1483]]\n",
      "Classification Report:\n",
      "               precision    recall  f1-score   support\n",
      "\n",
      "           0       0.97      1.00      0.98      2383\n",
      "           1       1.00      0.95      0.97      1554\n",
      "\n",
      "    accuracy                           0.98      3937\n",
      "   macro avg       0.98      0.98      0.98      3937\n",
      "weighted avg       0.98      0.98      0.98      3937\n",
      "\n"
     ]
    }
   ],
   "source": [
    "model_AI_NB = MultinomialNB()\n",
    "model_AI_NB.fit(x_train,y_train)\n",
    "\n",
    "y_pred = model_AI_NB.predict(x_test)\n",
    "print(\"Accuracy:\", accuracy_score(y_test, y_pred))\n",
    "print(\"Confusion Matrix:\\n\", confusion_matrix(y_test, y_pred))\n",
    "print(\"Classification Report:\\n\", classification_report(y_test, y_pred))"
   ]
  },
  {
   "cell_type": "code",
   "execution_count": 15,
   "id": "c25e7c78-6eec-4a3d-85be-543bbac3988b",
   "metadata": {},
   "outputs": [],
   "source": [
    "def test_by_user():\n",
    "    user_input = input(\"Enter your email message: \")\n",
    "    user_input = user_input.strip().lower()\n",
    "    user_input = vectorizer.transform([user_input][0:])\n",
    "    prediction = model_AI_NB.predict(user_input)\n",
    "    print(\"🔴 SPAM\" if prediction else \"🟢 HAM (Not spam)\")\n",
    "# test_by_user()"
   ]
  },
  {
   "cell_type": "code",
   "execution_count": 16,
   "id": "ef31c1bf-a555-40e0-958e-a7bc5f1b922b",
   "metadata": {},
   "outputs": [
    {
     "name": "stderr",
     "output_type": "stream",
     "text": [
      "2025-05-14 23:33:07.675 \n",
      "  \u001b[33m\u001b[1mWarning:\u001b[0m to view this Streamlit app on a browser, run it with the following\n",
      "  command:\n",
      "\n",
      "    streamlit run C:\\Users\\razan\\anaconda3\\Lib\\site-packages\\ipykernel_launcher.py [ARGUMENTS]\n"
     ]
    }
   ],
   "source": [
    "########GUI_by_streamlit##################\n",
    "def predict_message():\n",
    "    st.set_page_config(page_title=\"Spam Email Classifier\", layout=\"centered\")\n",
    "    st.title(\"📩 Spam Email Classifier\")\n",
    "    st.write(\"Paste your email message below and classify it:\")\n",
    "\n",
    "\n",
    "    st.markdown(\"---\")\n",
    "    user_input = st.text_area(\"✉️ Enter your message here:\", height=200)\n",
    "\n",
    "    if st.button(\"Classify\"):\n",
    "        if not user_input.strip():\n",
    "            st.warning(\"Please enter a message.\")\n",
    "        else:\n",
    "            vector = vectorizer.transform([user_input.lower()])\n",
    "            prediction = model_AI_NB.predict(vector)[0]\n",
    "\n",
    "            if prediction == 1:\n",
    "                st.error(\"🔴 Prediction: SPAM\")\n",
    "            else:\n",
    "                st.success(\"🟢 Prediction: HAM (Not spam)\")\n",
    "\n",
    "    acc = accuracy_score(y_test, y_pred)\n",
    "    cm = confusion_matrix(y_test, y_pred)\n",
    "    report = classification_report(y_test, y_pred, output_dict=True)\n",
    "\n",
    "    st.markdown(f\"### ✅ Model Accuracy: **{acc:.2%}**\")\n",
    "\n",
    "    st.markdown(\"### 📊 Confusion Matrix\")\n",
    "    fig, ax = plt.subplots()\n",
    "    sns.heatmap(cm, annot=True, fmt=\"d\", cmap=\"Blues\", xticklabels=[\"Ham\", \"Spam\"], yticklabels=[\"Ham\", \"Spam\"], ax=ax)\n",
    "    st.pyplot(fig)\n",
    "\n",
    "    st.markdown(\"### 🧾 Classification Report\")\n",
    "    report_df = pd.DataFrame(report).transpose()\n",
    "    st.dataframe(report_df.style.format(precision=2))\n",
    "    st.markdown(\"### 📈 Dataset Distribution (Ham vs Spam)\")\n",
    "    label_counts = df['target'].value_counts()\n",
    "    label_names = ['Ham', 'Spam']\n",
    "\n",
    "    fig2, ax2 = plt.subplots()\n",
    "    ax2.pie(label_counts, labels=label_names, autopct='%1.1f%%', startangle=90, colors=['#66b3ff', '#ff6666'])\n",
    "    ax2.axis('equal')\n",
    "    st.pyplot(fig2)\n",
    "\n",
    "\n",
    "predict_message()"
   ]
  }
 ],
 "metadata": {
  "kernelspec": {
   "display_name": "Python 3 (ipykernel)",
   "language": "python",
   "name": "python3"
  },
  "language_info": {
   "codemirror_mode": {
    "name": "ipython",
    "version": 3
   },
   "file_extension": ".py",
   "mimetype": "text/x-python",
   "name": "python",
   "nbconvert_exporter": "python",
   "pygments_lexer": "ipython3",
   "version": "3.12.4"
  }
 },
 "nbformat": 4,
 "nbformat_minor": 5
}
